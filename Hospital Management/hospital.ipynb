{
 "cells": [
  {
   "cell_type": "code",
   "execution_count": 48,
   "metadata": {},
   "outputs": [],
   "source": [
    "class Patient:\n",
    "#     Getting all the information about the patient and also all if IDS will be unique because that will be what we use to check discharge patient\n",
    "    def __init__(self,Id,name_of_patient,gender,name_of_disease,address,):\n",
    "        self.Id = Id\n",
    "        self.name_of_patient = name_of_patient\n",
    "        self.name_of_disease = name_of_disease\n",
    "        self.address = address\n",
    "        self.gender = gender\n",
    "#         we will check if payment was done or not at the time of discharge\n",
    "        self.payment_check = False\n",
    "    \n",
    "    def __repr__(self):\n",
    "        return f'ID: {self.Id}, Name: {self.name_of_patient} , Illness: {self.name_of_disease}, Address: {self.address} , Payment : {self.payment_check}' "
   ]
  },
  {
   "cell_type": "code",
   "execution_count": 149,
   "metadata": {},
   "outputs": [],
   "source": [
    "class Hospital:\n",
    "    def __init__(self,number_of_beds,name_of_hospital):\n",
    "        self.name_of_hospital = name_of_hospital\n",
    "        self.number_of_beds = number_of_beds\n",
    "        self.all_patients = []\n",
    "        \n",
    "    def admit_patients(self,patient):\n",
    "#         Checkiing if the patient is already registed with us which tells us if he has payed the registration fee\n",
    "        if patient.Id in [ids['ID'] for ids in self.all_patients]:\n",
    "            print('Patient Already Registerd with us!')\n",
    "#         Checking if the beds are available or not \n",
    "        elif len(self.all_patients) >= self.number_of_beds:\n",
    "            print('We dont have any space available in our Hospital')\n",
    "        else:\n",
    "#          If beds available we will admit the patient\n",
    "            patient_detail = {\n",
    "                'ID':patient.Id,\n",
    "                'Name':patient.name_of_patient,\n",
    "                'Illness':patient.name_of_disease,\n",
    "                'Adress':patient.address\n",
    "            }\n",
    "            self.all_patients.append(patient_detail)\n",
    "            print(f'Patient {patient.name_of_patient}')\n",
    "    \n",
    "    def do_payment(self,patient):\n",
    "        patient.payment_check = True\n",
    "        \n",
    "    def discharge_patient(self, patient):\n",
    "#         Checking if the payment is done and if its done we will discharge the patient\n",
    "        if patient.payment_check == True:\n",
    "            for index,value in enumerate(self.all_patients):\n",
    "                if value['Name'] == patient.name_of_patient:\n",
    "                    self.all_patients.pop(index)\n",
    "                else:\n",
    "                    print('Patient Does not exist')\n",
    "        else:\n",
    "            print('You Have Pending Fee')\n",
    "    \n",
    "    def __repr__(self):\n",
    "        return self.all_patients"
   ]
  },
  {
   "cell_type": "code",
   "execution_count": 150,
   "metadata": {},
   "outputs": [],
   "source": [
    "Ankush = Patient(1,'Ankush Shah','Male','Covid','Delhi')"
   ]
  },
  {
   "cell_type": "code",
   "execution_count": 151,
   "metadata": {},
   "outputs": [
    {
     "data": {
      "text/plain": [
       "'ID: 1, Name: Ankush Shah , Illness: Covid, Address: Delhi , Payment : False'"
      ]
     },
     "execution_count": 151,
     "metadata": {},
     "output_type": "execute_result"
    }
   ],
   "source": [
    "Ankush.__repr__()"
   ]
  },
  {
   "cell_type": "code",
   "execution_count": 152,
   "metadata": {},
   "outputs": [],
   "source": [
    "my_hospital = Hospital(10,'My Hospital')"
   ]
  },
  {
   "cell_type": "code",
   "execution_count": 153,
   "metadata": {},
   "outputs": [
    {
     "name": "stdout",
     "output_type": "stream",
     "text": [
      "Patient Ankush Shah\n"
     ]
    }
   ],
   "source": [
    "my_hospital.admit_patients(Ankush)"
   ]
  },
  {
   "cell_type": "code",
   "execution_count": 154,
   "metadata": {},
   "outputs": [],
   "source": [
    "my_hospital.do_payment(Ankush)"
   ]
  },
  {
   "cell_type": "code",
   "execution_count": 155,
   "metadata": {},
   "outputs": [
    {
     "data": {
      "text/plain": [
       "'ID: 1, Name: Ankush Shah , Illness: Covid, Address: Delhi , Payment : True'"
      ]
     },
     "execution_count": 155,
     "metadata": {},
     "output_type": "execute_result"
    }
   ],
   "source": [
    "Ankush.__repr__()"
   ]
  },
  {
   "cell_type": "code",
   "execution_count": 156,
   "metadata": {},
   "outputs": [],
   "source": [
    "Bunty = Patient(1,'dada','da','dada','adad')"
   ]
  },
  {
   "cell_type": "code",
   "execution_count": 157,
   "metadata": {},
   "outputs": [
    {
     "name": "stdout",
     "output_type": "stream",
     "text": [
      "Patient Already Registerd with us!\n"
     ]
    }
   ],
   "source": [
    "my_hospital.admit_patients(Bunty)"
   ]
  },
  {
   "cell_type": "code",
   "execution_count": 158,
   "metadata": {},
   "outputs": [
    {
     "data": {
      "text/plain": [
       "'ID: 1, Name: dada , Illness: dada, Address: adad , Payment : False'"
      ]
     },
     "execution_count": 158,
     "metadata": {},
     "output_type": "execute_result"
    }
   ],
   "source": [
    "Bunty.__repr__()"
   ]
  },
  {
   "cell_type": "code",
   "execution_count": 159,
   "metadata": {},
   "outputs": [
    {
     "name": "stdout",
     "output_type": "stream",
     "text": [
      "You Have Pending Fee\n"
     ]
    }
   ],
   "source": [
    "my_hospital.discharge_patient(Bunty)"
   ]
  },
  {
   "cell_type": "code",
   "execution_count": 160,
   "metadata": {},
   "outputs": [],
   "source": [
    "my_hospital.discharge_patient(Ankush)"
   ]
  },
  {
   "cell_type": "code",
   "execution_count": 161,
   "metadata": {},
   "outputs": [
    {
     "data": {
      "text/plain": [
       "[]"
      ]
     },
     "execution_count": 161,
     "metadata": {},
     "output_type": "execute_result"
    }
   ],
   "source": [
    "my_hospital.__repr__()"
   ]
  },
  {
   "cell_type": "code",
   "execution_count": 162,
   "metadata": {},
   "outputs": [],
   "source": [
    "kldkal = Patient(3,'3131','31','31','13')"
   ]
  },
  {
   "cell_type": "code",
   "execution_count": 163,
   "metadata": {},
   "outputs": [
    {
     "name": "stdout",
     "output_type": "stream",
     "text": [
      "Patient 3131\n"
     ]
    }
   ],
   "source": [
    "my_hospital.admit_patients(kldkal)"
   ]
  },
  {
   "cell_type": "code",
   "execution_count": 164,
   "metadata": {},
   "outputs": [
    {
     "data": {
      "text/plain": [
       "[{'ID': 3, 'Name': '3131', 'Illness': '31', 'Adress': '13'}]"
      ]
     },
     "execution_count": 164,
     "metadata": {},
     "output_type": "execute_result"
    }
   ],
   "source": [
    "my_hospital.__repr__()"
   ]
  },
  {
   "cell_type": "code",
   "execution_count": 165,
   "metadata": {},
   "outputs": [
    {
     "name": "stdout",
     "output_type": "stream",
     "text": [
      "You Have Pending Fee\n"
     ]
    }
   ],
   "source": [
    "my_hospital.discharge_patient(kldkal)"
   ]
  },
  {
   "cell_type": "code",
   "execution_count": null,
   "metadata": {},
   "outputs": [],
   "source": []
  }
 ],
 "metadata": {
  "kernelspec": {
   "display_name": "Python 3",
   "language": "python",
   "name": "python3"
  },
  "language_info": {
   "codemirror_mode": {
    "name": "ipython",
    "version": 3
   },
   "file_extension": ".py",
   "mimetype": "text/x-python",
   "name": "python",
   "nbconvert_exporter": "python",
   "pygments_lexer": "ipython3",
   "version": "3.8.3"
  }
 },
 "nbformat": 4,
 "nbformat_minor": 4
}
